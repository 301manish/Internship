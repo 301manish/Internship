{
 "cells": [
  {
   "cell_type": "markdown",
   "id": "d4f76b63",
   "metadata": {},
   "source": [
    "WEB SCRAPING ASSIGNMENT 2"
   ]
  },
  {
   "cell_type": "markdown",
   "id": "a1c35bca",
   "metadata": {},
   "source": [
    "#Q.1.In this question you have to scrape data using the filters available on the webpage You have to use the location and salary filter.\n",
    "You have to scrape data for “Data Scientist” designation for first 10 job results.\n",
    "You have to scrape the job-title, job-location, company name, experience required.\n",
    "The location filter to be used is “Delhi/NCR”. The salary filter to be used is “3-6” lakhs"
   ]
  },
  {
   "cell_type": "code",
   "execution_count": 1,
   "id": "2ff4bf7a",
   "metadata": {},
   "outputs": [],
   "source": [
    "import selenium\n",
    "import pandas as pd\n",
    "from selenium import webdriver\n",
    "import warnings\n",
    "warnings.filterwarnings('ignore')\n",
    "from selenium.webdriver.common.by import By\n",
    "import time"
   ]
  },
  {
   "cell_type": "code",
   "execution_count": 4,
   "id": "99720c93",
   "metadata": {},
   "outputs": [],
   "source": [
    "# First get the web page."
   ]
  },
  {
   "cell_type": "code",
   "execution_count": 5,
   "id": "77fbd5a0",
   "metadata": {},
   "outputs": [],
   "source": [
    "#connect to the web page"
   ]
  },
  {
   "cell_type": "code",
   "execution_count": 3,
   "id": "3ee9254c",
   "metadata": {},
   "outputs": [],
   "source": [
    "driver=webdriver.Chrome()"
   ]
  },
  {
   "cell_type": "code",
   "execution_count": 4,
   "id": "cb1af685",
   "metadata": {},
   "outputs": [],
   "source": [
    "#opening the naukri page on automated chrome browser\n",
    "driver.get(\"https://www.naukri.com/\")"
   ]
  },
  {
   "cell_type": "code",
   "execution_count": 11,
   "id": "18dbff8f",
   "metadata": {},
   "outputs": [],
   "source": [
    "#2. Enter “Data Scientist” in “Skill, Designations, and Companies” field."
   ]
  },
  {
   "cell_type": "code",
   "execution_count": 5,
   "id": "b98f53ad",
   "metadata": {},
   "outputs": [
    {
     "data": {
      "text/plain": [
       "<selenium.webdriver.remote.webelement.WebElement (session=\"4f6a18fd792a8bf9331fcf50a9c3f18d\", element=\"f.829FC263E9DA8A6F1DA8F1F55F48A868.d.4DC9B6CBF586D7A3DD7FF622B5002397.e.11\")>"
      ]
     },
     "execution_count": 5,
     "metadata": {},
     "output_type": "execute_result"
    }
   ],
   "source": [
    "Designation=driver.find_element(By.CLASS_NAME,\"suggestor-input\")\n",
    "Designation\n"
   ]
  },
  {
   "cell_type": "code",
   "execution_count": 6,
   "id": "9392919e",
   "metadata": {},
   "outputs": [],
   "source": [
    "Designation.send_keys(\"Data Scientist\")"
   ]
  },
  {
   "cell_type": "code",
   "execution_count": 7,
   "id": "8c350927",
   "metadata": {},
   "outputs": [],
   "source": [
    "location=driver.find_element(By.XPATH,\"/html/body/div[1]/div[7]/div/div/div[5]/div/div/div/div[1]/div/input\")\n",
    "location.send_keys(\"Delhi\")"
   ]
  },
  {
   "cell_type": "code",
   "execution_count": null,
   "id": "33c18986",
   "metadata": {},
   "outputs": [],
   "source": []
  },
  {
   "cell_type": "code",
   "execution_count": null,
   "id": "03b139b6",
   "metadata": {},
   "outputs": [],
   "source": []
  },
  {
   "cell_type": "code",
   "execution_count": 8,
   "id": "86e9c033",
   "metadata": {},
   "outputs": [],
   "source": [
    "#Clicking on search bar button\n",
    "search_button=driver.find_element(By.XPATH,\"/html/body/div[1]/div[7]/div/div/div[6]\")\n",
    "search_button.click()"
   ]
  },
  {
   "cell_type": "code",
   "execution_count": 12,
   "id": "fab0dadf",
   "metadata": {},
   "outputs": [
    {
     "data": {
      "text/plain": [
       "('xpath', '//div[@class=srp-jobtuple-wrapper]/div/a')"
      ]
     },
     "execution_count": 12,
     "metadata": {},
     "output_type": "execute_result"
    }
   ],
   "source": [
    "# Scrap job title\n",
    "job_title=driver.find_element=(By.XPATH,\"//div[@class=srp-jobtuple-wrapper]/div/a\")\n",
    "job_title[0:10]"
   ]
  },
  {
   "cell_type": "code",
   "execution_count": null,
   "id": "89654a94",
   "metadata": {},
   "outputs": [],
   "source": [
    "# here not getting result, i need support."
   ]
  }
 ],
 "metadata": {
  "kernelspec": {
   "display_name": "Python 3 (ipykernel)",
   "language": "python",
   "name": "python3"
  },
  "language_info": {
   "codemirror_mode": {
    "name": "ipython",
    "version": 3
   },
   "file_extension": ".py",
   "mimetype": "text/x-python",
   "name": "python",
   "nbconvert_exporter": "python",
   "pygments_lexer": "ipython3",
   "version": "3.11.5"
  }
 },
 "nbformat": 4,
 "nbformat_minor": 5
}
